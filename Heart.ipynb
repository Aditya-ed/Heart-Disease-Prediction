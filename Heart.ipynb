{
 "cells": [
  {
   "cell_type": "code",
   "execution_count": 2,
   "id": "c13667b8",
   "metadata": {},
   "outputs": [],
   "source": [
    "import pandas as pd\n",
    "import numpy as np\n",
    "import matplotlib as plt\n",
    "import seaborn as sns"
   ]
  },
  {
   "cell_type": "code",
   "execution_count": 3,
   "id": "8f565960",
   "metadata": {},
   "outputs": [],
   "source": [
    "data=pd.read_csv(\"heart.csv\")\n",
    "info = [\"age\",\"1: male, 0: female\",\"chest pain type, 1: typical angina, 2: atypical angina, 3: non-anginal pain, 4: asymptomatic\",\"resting blood pressure\",\" serum cholestoral in mg/dl\",\"fasting blood sugar > 120 mg/dl\",\"resting electrocardiographic results (values 0,1,2)\",\" maximum heart rate achieved\",\"exercise induced angina\",\"oldpeak = ST depression induced by exercise relative to rest\",\"the slope of the peak exercise ST segment\",\"number of major vessels (0-3) colored by flourosopy\",\"thal: 3 = normal; 6 = fixed defect; 7 = reversable defect\"]\n"
   ]
  },
  {
   "cell_type": "code",
   "execution_count": 4,
   "id": "df2db47c",
   "metadata": {},
   "outputs": [
    {
     "data": {
      "text/html": [
       "<div>\n",
       "<style scoped>\n",
       "    .dataframe tbody tr th:only-of-type {\n",
       "        vertical-align: middle;\n",
       "    }\n",
       "\n",
       "    .dataframe tbody tr th {\n",
       "        vertical-align: top;\n",
       "    }\n",
       "\n",
       "    .dataframe thead th {\n",
       "        text-align: right;\n",
       "    }\n",
       "</style>\n",
       "<table border=\"1\" class=\"dataframe\">\n",
       "  <thead>\n",
       "    <tr style=\"text-align: right;\">\n",
       "      <th></th>\n",
       "      <th>age</th>\n",
       "      <th>sex</th>\n",
       "      <th>cp</th>\n",
       "      <th>trestbps</th>\n",
       "      <th>chol</th>\n",
       "      <th>fbs</th>\n",
       "      <th>restecg</th>\n",
       "      <th>thalach</th>\n",
       "      <th>exang</th>\n",
       "      <th>oldpeak</th>\n",
       "      <th>slope</th>\n",
       "      <th>ca</th>\n",
       "      <th>thal</th>\n",
       "      <th>target</th>\n",
       "    </tr>\n",
       "  </thead>\n",
       "  <tbody>\n",
       "    <tr>\n",
       "      <th>0</th>\n",
       "      <td>63</td>\n",
       "      <td>1</td>\n",
       "      <td>3</td>\n",
       "      <td>145</td>\n",
       "      <td>233</td>\n",
       "      <td>1</td>\n",
       "      <td>0</td>\n",
       "      <td>150</td>\n",
       "      <td>0</td>\n",
       "      <td>2.3</td>\n",
       "      <td>0</td>\n",
       "      <td>0</td>\n",
       "      <td>1</td>\n",
       "      <td>1</td>\n",
       "    </tr>\n",
       "    <tr>\n",
       "      <th>1</th>\n",
       "      <td>37</td>\n",
       "      <td>1</td>\n",
       "      <td>2</td>\n",
       "      <td>130</td>\n",
       "      <td>250</td>\n",
       "      <td>0</td>\n",
       "      <td>1</td>\n",
       "      <td>187</td>\n",
       "      <td>0</td>\n",
       "      <td>3.5</td>\n",
       "      <td>0</td>\n",
       "      <td>0</td>\n",
       "      <td>2</td>\n",
       "      <td>1</td>\n",
       "    </tr>\n",
       "    <tr>\n",
       "      <th>2</th>\n",
       "      <td>41</td>\n",
       "      <td>0</td>\n",
       "      <td>1</td>\n",
       "      <td>130</td>\n",
       "      <td>204</td>\n",
       "      <td>0</td>\n",
       "      <td>0</td>\n",
       "      <td>172</td>\n",
       "      <td>0</td>\n",
       "      <td>1.4</td>\n",
       "      <td>2</td>\n",
       "      <td>0</td>\n",
       "      <td>2</td>\n",
       "      <td>1</td>\n",
       "    </tr>\n",
       "    <tr>\n",
       "      <th>3</th>\n",
       "      <td>56</td>\n",
       "      <td>1</td>\n",
       "      <td>1</td>\n",
       "      <td>120</td>\n",
       "      <td>236</td>\n",
       "      <td>0</td>\n",
       "      <td>1</td>\n",
       "      <td>178</td>\n",
       "      <td>0</td>\n",
       "      <td>0.8</td>\n",
       "      <td>2</td>\n",
       "      <td>0</td>\n",
       "      <td>2</td>\n",
       "      <td>1</td>\n",
       "    </tr>\n",
       "    <tr>\n",
       "      <th>4</th>\n",
       "      <td>57</td>\n",
       "      <td>0</td>\n",
       "      <td>0</td>\n",
       "      <td>120</td>\n",
       "      <td>354</td>\n",
       "      <td>0</td>\n",
       "      <td>1</td>\n",
       "      <td>163</td>\n",
       "      <td>1</td>\n",
       "      <td>0.6</td>\n",
       "      <td>2</td>\n",
       "      <td>0</td>\n",
       "      <td>2</td>\n",
       "      <td>1</td>\n",
       "    </tr>\n",
       "  </tbody>\n",
       "</table>\n",
       "</div>"
      ],
      "text/plain": [
       "   age  sex  cp  trestbps  chol  fbs  restecg  thalach  exang  oldpeak  slope  \\\n",
       "0   63    1   3       145   233    1        0      150      0      2.3      0   \n",
       "1   37    1   2       130   250    0        1      187      0      3.5      0   \n",
       "2   41    0   1       130   204    0        0      172      0      1.4      2   \n",
       "3   56    1   1       120   236    0        1      178      0      0.8      2   \n",
       "4   57    0   0       120   354    0        1      163      1      0.6      2   \n",
       "\n",
       "   ca  thal  target  \n",
       "0   0     1       1  \n",
       "1   0     2       1  \n",
       "2   0     2       1  \n",
       "3   0     2       1  \n",
       "4   0     2       1  "
      ]
     },
     "execution_count": 4,
     "metadata": {},
     "output_type": "execute_result"
    }
   ],
   "source": [
    "data.head()"
   ]
  },
  {
   "cell_type": "code",
   "execution_count": 5,
   "id": "b9915caf",
   "metadata": {},
   "outputs": [
    {
     "data": {
      "text/plain": [
       "['age',\n",
       " '1: male, 0: female',\n",
       " 'chest pain type, 1: typical angina, 2: atypical angina, 3: non-anginal pain, 4: asymptomatic',\n",
       " 'resting blood pressure',\n",
       " ' serum cholestoral in mg/dl',\n",
       " 'fasting blood sugar > 120 mg/dl',\n",
       " 'resting electrocardiographic results (values 0,1,2)',\n",
       " ' maximum heart rate achieved',\n",
       " 'exercise induced angina',\n",
       " 'oldpeak = ST depression induced by exercise relative to rest',\n",
       " 'the slope of the peak exercise ST segment',\n",
       " 'number of major vessels (0-3) colored by flourosopy',\n",
       " 'thal: 3 = normal; 6 = fixed defect; 7 = reversable defect']"
      ]
     },
     "execution_count": 5,
     "metadata": {},
     "output_type": "execute_result"
    }
   ],
   "source": [
    "info"
   ]
  },
  {
   "cell_type": "code",
   "execution_count": 6,
   "id": "276b0459",
   "metadata": {},
   "outputs": [
    {
     "data": {
      "text/html": [
       "<div>\n",
       "<style scoped>\n",
       "    .dataframe tbody tr th:only-of-type {\n",
       "        vertical-align: middle;\n",
       "    }\n",
       "\n",
       "    .dataframe tbody tr th {\n",
       "        vertical-align: top;\n",
       "    }\n",
       "\n",
       "    .dataframe thead th {\n",
       "        text-align: right;\n",
       "    }\n",
       "</style>\n",
       "<table border=\"1\" class=\"dataframe\">\n",
       "  <thead>\n",
       "    <tr style=\"text-align: right;\">\n",
       "      <th></th>\n",
       "      <th>age</th>\n",
       "      <th>sex</th>\n",
       "      <th>cp</th>\n",
       "      <th>trestbps</th>\n",
       "      <th>chol</th>\n",
       "      <th>fbs</th>\n",
       "      <th>restecg</th>\n",
       "      <th>thalach</th>\n",
       "      <th>exang</th>\n",
       "      <th>oldpeak</th>\n",
       "      <th>slope</th>\n",
       "      <th>ca</th>\n",
       "      <th>thal</th>\n",
       "      <th>target</th>\n",
       "    </tr>\n",
       "  </thead>\n",
       "  <tbody>\n",
       "    <tr>\n",
       "      <th>count</th>\n",
       "      <td>303.000000</td>\n",
       "      <td>303.000000</td>\n",
       "      <td>303.000000</td>\n",
       "      <td>303.000000</td>\n",
       "      <td>303.000000</td>\n",
       "      <td>303.000000</td>\n",
       "      <td>303.000000</td>\n",
       "      <td>303.000000</td>\n",
       "      <td>303.000000</td>\n",
       "      <td>303.000000</td>\n",
       "      <td>303.000000</td>\n",
       "      <td>303.000000</td>\n",
       "      <td>303.000000</td>\n",
       "      <td>303.000000</td>\n",
       "    </tr>\n",
       "    <tr>\n",
       "      <th>mean</th>\n",
       "      <td>54.366337</td>\n",
       "      <td>0.683168</td>\n",
       "      <td>0.966997</td>\n",
       "      <td>131.623762</td>\n",
       "      <td>246.264026</td>\n",
       "      <td>0.148515</td>\n",
       "      <td>0.528053</td>\n",
       "      <td>149.646865</td>\n",
       "      <td>0.326733</td>\n",
       "      <td>1.039604</td>\n",
       "      <td>1.399340</td>\n",
       "      <td>0.729373</td>\n",
       "      <td>2.313531</td>\n",
       "      <td>0.544554</td>\n",
       "    </tr>\n",
       "    <tr>\n",
       "      <th>std</th>\n",
       "      <td>9.082101</td>\n",
       "      <td>0.466011</td>\n",
       "      <td>1.032052</td>\n",
       "      <td>17.538143</td>\n",
       "      <td>51.830751</td>\n",
       "      <td>0.356198</td>\n",
       "      <td>0.525860</td>\n",
       "      <td>22.905161</td>\n",
       "      <td>0.469794</td>\n",
       "      <td>1.161075</td>\n",
       "      <td>0.616226</td>\n",
       "      <td>1.022606</td>\n",
       "      <td>0.612277</td>\n",
       "      <td>0.498835</td>\n",
       "    </tr>\n",
       "    <tr>\n",
       "      <th>min</th>\n",
       "      <td>29.000000</td>\n",
       "      <td>0.000000</td>\n",
       "      <td>0.000000</td>\n",
       "      <td>94.000000</td>\n",
       "      <td>126.000000</td>\n",
       "      <td>0.000000</td>\n",
       "      <td>0.000000</td>\n",
       "      <td>71.000000</td>\n",
       "      <td>0.000000</td>\n",
       "      <td>0.000000</td>\n",
       "      <td>0.000000</td>\n",
       "      <td>0.000000</td>\n",
       "      <td>0.000000</td>\n",
       "      <td>0.000000</td>\n",
       "    </tr>\n",
       "    <tr>\n",
       "      <th>25%</th>\n",
       "      <td>47.500000</td>\n",
       "      <td>0.000000</td>\n",
       "      <td>0.000000</td>\n",
       "      <td>120.000000</td>\n",
       "      <td>211.000000</td>\n",
       "      <td>0.000000</td>\n",
       "      <td>0.000000</td>\n",
       "      <td>133.500000</td>\n",
       "      <td>0.000000</td>\n",
       "      <td>0.000000</td>\n",
       "      <td>1.000000</td>\n",
       "      <td>0.000000</td>\n",
       "      <td>2.000000</td>\n",
       "      <td>0.000000</td>\n",
       "    </tr>\n",
       "    <tr>\n",
       "      <th>50%</th>\n",
       "      <td>55.000000</td>\n",
       "      <td>1.000000</td>\n",
       "      <td>1.000000</td>\n",
       "      <td>130.000000</td>\n",
       "      <td>240.000000</td>\n",
       "      <td>0.000000</td>\n",
       "      <td>1.000000</td>\n",
       "      <td>153.000000</td>\n",
       "      <td>0.000000</td>\n",
       "      <td>0.800000</td>\n",
       "      <td>1.000000</td>\n",
       "      <td>0.000000</td>\n",
       "      <td>2.000000</td>\n",
       "      <td>1.000000</td>\n",
       "    </tr>\n",
       "    <tr>\n",
       "      <th>75%</th>\n",
       "      <td>61.000000</td>\n",
       "      <td>1.000000</td>\n",
       "      <td>2.000000</td>\n",
       "      <td>140.000000</td>\n",
       "      <td>274.500000</td>\n",
       "      <td>0.000000</td>\n",
       "      <td>1.000000</td>\n",
       "      <td>166.000000</td>\n",
       "      <td>1.000000</td>\n",
       "      <td>1.600000</td>\n",
       "      <td>2.000000</td>\n",
       "      <td>1.000000</td>\n",
       "      <td>3.000000</td>\n",
       "      <td>1.000000</td>\n",
       "    </tr>\n",
       "    <tr>\n",
       "      <th>max</th>\n",
       "      <td>77.000000</td>\n",
       "      <td>1.000000</td>\n",
       "      <td>3.000000</td>\n",
       "      <td>200.000000</td>\n",
       "      <td>564.000000</td>\n",
       "      <td>1.000000</td>\n",
       "      <td>2.000000</td>\n",
       "      <td>202.000000</td>\n",
       "      <td>1.000000</td>\n",
       "      <td>6.200000</td>\n",
       "      <td>2.000000</td>\n",
       "      <td>4.000000</td>\n",
       "      <td>3.000000</td>\n",
       "      <td>1.000000</td>\n",
       "    </tr>\n",
       "  </tbody>\n",
       "</table>\n",
       "</div>"
      ],
      "text/plain": [
       "              age         sex          cp    trestbps        chol         fbs  \\\n",
       "count  303.000000  303.000000  303.000000  303.000000  303.000000  303.000000   \n",
       "mean    54.366337    0.683168    0.966997  131.623762  246.264026    0.148515   \n",
       "std      9.082101    0.466011    1.032052   17.538143   51.830751    0.356198   \n",
       "min     29.000000    0.000000    0.000000   94.000000  126.000000    0.000000   \n",
       "25%     47.500000    0.000000    0.000000  120.000000  211.000000    0.000000   \n",
       "50%     55.000000    1.000000    1.000000  130.000000  240.000000    0.000000   \n",
       "75%     61.000000    1.000000    2.000000  140.000000  274.500000    0.000000   \n",
       "max     77.000000    1.000000    3.000000  200.000000  564.000000    1.000000   \n",
       "\n",
       "          restecg     thalach       exang     oldpeak       slope          ca  \\\n",
       "count  303.000000  303.000000  303.000000  303.000000  303.000000  303.000000   \n",
       "mean     0.528053  149.646865    0.326733    1.039604    1.399340    0.729373   \n",
       "std      0.525860   22.905161    0.469794    1.161075    0.616226    1.022606   \n",
       "min      0.000000   71.000000    0.000000    0.000000    0.000000    0.000000   \n",
       "25%      0.000000  133.500000    0.000000    0.000000    1.000000    0.000000   \n",
       "50%      1.000000  153.000000    0.000000    0.800000    1.000000    0.000000   \n",
       "75%      1.000000  166.000000    1.000000    1.600000    2.000000    1.000000   \n",
       "max      2.000000  202.000000    1.000000    6.200000    2.000000    4.000000   \n",
       "\n",
       "             thal      target  \n",
       "count  303.000000  303.000000  \n",
       "mean     2.313531    0.544554  \n",
       "std      0.612277    0.498835  \n",
       "min      0.000000    0.000000  \n",
       "25%      2.000000    0.000000  \n",
       "50%      2.000000    1.000000  \n",
       "75%      3.000000    1.000000  \n",
       "max      3.000000    1.000000  "
      ]
     },
     "execution_count": 6,
     "metadata": {},
     "output_type": "execute_result"
    }
   ],
   "source": [
    "data.describe()"
   ]
  },
  {
   "cell_type": "markdown",
   "id": "29a88ff2",
   "metadata": {},
   "source": [
    "### check for the irregularities in data"
   ]
  },
  {
   "cell_type": "code",
   "execution_count": 7,
   "id": "8514dc22",
   "metadata": {},
   "outputs": [
    {
     "data": {
      "text/plain": [
       "age         0\n",
       "sex         0\n",
       "cp          0\n",
       "trestbps    0\n",
       "chol        0\n",
       "fbs         0\n",
       "restecg     0\n",
       "thalach     0\n",
       "exang       0\n",
       "oldpeak     0\n",
       "slope       0\n",
       "ca          0\n",
       "thal        0\n",
       "target      0\n",
       "dtype: int64"
      ]
     },
     "execution_count": 7,
     "metadata": {},
     "output_type": "execute_result"
    }
   ],
   "source": [
    "data.isna().sum()"
   ]
  },
  {
   "cell_type": "markdown",
   "id": "6bd4d8fc",
   "metadata": {},
   "source": [
    "### No Null values present"
   ]
  },
  {
   "cell_type": "code",
   "execution_count": 8,
   "id": "85d0e5f8",
   "metadata": {},
   "outputs": [
    {
     "data": {
      "text/plain": [
       "<AxesSubplot:>"
      ]
     },
     "execution_count": 8,
     "metadata": {},
     "output_type": "execute_result"
    },
    {
     "data": {
      "image/png": "[encoded data removed]",
      "text/plain": [
       "<Figure size 432x288 with 2 Axes>"
      ]
     },
     "metadata": {
      "needs_background": "light"
     },
     "output_type": "display_data"
    }
   ],
   "source": [
    "sns.heatmap(data=data.corr())"
   ]
  },
  {
   "cell_type": "code",
   "execution_count": 9,
   "id": "414cd31e",
   "metadata": {},
   "outputs": [
    {
     "data": {
      "text/plain": [
       "fbs         0.028046\n",
       "chol        0.085239\n",
       "restecg     0.137230\n",
       "trestbps    0.144931\n",
       "age         0.225439\n",
       "sex         0.280937\n",
       "thal        0.344029\n",
       "slope       0.345877\n",
       "ca          0.391724\n",
       "thalach     0.421741\n",
       "oldpeak     0.430696\n",
       "cp          0.433798\n",
       "exang       0.436757\n",
       "target      1.000000\n",
       "Name: target, dtype: float64"
      ]
     },
     "execution_count": 9,
     "metadata": {},
     "output_type": "execute_result"
    }
   ],
   "source": [
    "data.corr()['target'].abs().sort_values()"
   ]
  },
  {
   "cell_type": "markdown",
   "id": "e4bfc55d",
   "metadata": {},
   "source": [
    "###  fbs has low correlation with the target"
   ]
  },
  {
   "cell_type": "code",
   "execution_count": 10,
   "id": "ab4a8a28",
   "metadata": {},
   "outputs": [
    {
     "data": {
      "text/plain": [
       "array([1, 0], dtype=int64)"
      ]
     },
     "execution_count": 10,
     "metadata": {},
     "output_type": "execute_result"
    }
   ],
   "source": [
    "data['target'].unique()"
   ]
  },
  {
   "cell_type": "markdown",
   "id": "85d45e9e",
   "metadata": {},
   "source": [
    "### 0 mean No heart disease detected 1 means disease detected"
   ]
  },
  {
   "cell_type": "code",
   "execution_count": 11,
   "id": "b35f4c24",
   "metadata": {},
   "outputs": [
    {
     "name": "stderr",
     "output_type": "stream",
     "text": [
      "C:\\Users\\adity\\anaconda3\\lib\\site-packages\\seaborn\\_decorators.py:36: FutureWarning: Pass the following variable as a keyword arg: x. From version 0.12, the only valid positional argument will be `data`, and passing other arguments without an explicit keyword will result in an error or misinterpretation.\n",
      "  warnings.warn(\n"
     ]
    },
    {
     "data": {
      "text/plain": [
       "<AxesSubplot:xlabel='target', ylabel='count'>"
      ]
     },
     "execution_count": 11,
     "metadata": {},
     "output_type": "execute_result"
    },
    {
     "data": {
      "image/png": "[encoded data removed]",
      "text/plain": [
       "<Figure size 432x288 with 1 Axes>"
      ]
     },
     "metadata": {
      "needs_background": "light"
     },
     "output_type": "display_data"
    }
   ],
   "source": [
    "target=data['target']\n",
    "sns.countplot(target)"
   ]
  },
  {
   "cell_type": "code",
   "execution_count": 12,
   "id": "0db9e8c9",
   "metadata": {},
   "outputs": [
    {
     "data": {
      "text/plain": [
       "array([1, 0], dtype=int64)"
      ]
     },
     "execution_count": 12,
     "metadata": {},
     "output_type": "execute_result"
    }
   ],
   "source": [
    "data['sex'].unique()"
   ]
  },
  {
   "cell_type": "markdown",
   "id": "60a2c81c",
   "metadata": {},
   "source": [
    "### Assuming 1 is male and 0 is female"
   ]
  },
  {
   "cell_type": "code",
   "execution_count": 13,
   "id": "e3a0371a",
   "metadata": {},
   "outputs": [
    {
     "name": "stderr",
     "output_type": "stream",
     "text": [
      "C:\\Users\\adity\\anaconda3\\lib\\site-packages\\seaborn\\_decorators.py:36: FutureWarning: Pass the following variables as keyword args: x, y. From version 0.12, the only valid positional argument will be `data`, and passing other arguments without an explicit keyword will result in an error or misinterpretation.\n",
      "  warnings.warn(\n"
     ]
    },
    {
     "data": {
      "text/plain": [
       "<AxesSubplot:xlabel='sex', ylabel='target'>"
      ]
     },
     "execution_count": 13,
     "metadata": {},
     "output_type": "execute_result"
    },
    {
     "data": {
      "image/png": "[encoded data removed]",
      "text/plain": [
       "<Figure size 432x288 with 1 Axes>"
      ]
     },
     "metadata": {
      "needs_background": "light"
     },
     "output_type": "display_data"
    }
   ],
   "source": [
    "sns.barplot(data['sex'],target)"
   ]
  },
  {
   "cell_type": "markdown",
   "id": "d320b785",
   "metadata": {},
   "source": [
    "### Females are more likely to have a heart related problem according to the data given"
   ]
  },
  {
   "cell_type": "code",
   "execution_count": 14,
   "id": "cc83b394",
   "metadata": {},
   "outputs": [
    {
     "name": "stderr",
     "output_type": "stream",
     "text": [
      "C:\\Users\\adity\\anaconda3\\lib\\site-packages\\seaborn\\_decorators.py:36: FutureWarning: Pass the following variables as keyword args: x, y. From version 0.12, the only valid positional argument will be `data`, and passing other arguments without an explicit keyword will result in an error or misinterpretation.\n",
      "  warnings.warn(\n"
     ]
    },
    {
     "data": {
      "text/plain": [
       "<AxesSubplot:xlabel='cp', ylabel='target'>"
      ]
     },
     "execution_count": 14,
     "metadata": {},
     "output_type": "execute_result"
    },
    {
     "data": {
      "image/png": "[encoded data removed]",
      "text/plain": [
       "<Figure size 432x288 with 1 Axes>"
      ]
     },
     "metadata": {
      "needs_background": "light"
     },
     "output_type": "display_data"
    }
   ],
   "source": [
    "sns.barplot(data['cp'],target)"
   ]
  },
  {
   "cell_type": "markdown",
   "id": "6ad28b69",
   "metadata": {},
   "source": [
    "### people with typical angina are less likely to have a heart related problem"
   ]
  },
  {
   "cell_type": "code",
   "execution_count": 15,
   "id": "b1b846cc",
   "metadata": {},
   "outputs": [
    {
     "data": {
      "text/html": [
       "<div>\n",
       "<style scoped>\n",
       "    .dataframe tbody tr th:only-of-type {\n",
       "        vertical-align: middle;\n",
       "    }\n",
       "\n",
       "    .dataframe tbody tr th {\n",
       "        vertical-align: top;\n",
       "    }\n",
       "\n",
       "    .dataframe thead th {\n",
       "        text-align: right;\n",
       "    }\n",
       "</style>\n",
       "<table border=\"1\" class=\"dataframe\">\n",
       "  <thead>\n",
       "    <tr style=\"text-align: right;\">\n",
       "      <th></th>\n",
       "      <th>age</th>\n",
       "      <th>sex</th>\n",
       "      <th>cp</th>\n",
       "      <th>trestbps</th>\n",
       "      <th>chol</th>\n",
       "      <th>fbs</th>\n",
       "      <th>restecg</th>\n",
       "      <th>thalach</th>\n",
       "      <th>exang</th>\n",
       "      <th>oldpeak</th>\n",
       "      <th>slope</th>\n",
       "      <th>ca</th>\n",
       "      <th>thal</th>\n",
       "      <th>target</th>\n",
       "    </tr>\n",
       "  </thead>\n",
       "  <tbody>\n",
       "    <tr>\n",
       "      <th>0</th>\n",
       "      <td>63</td>\n",
       "      <td>1</td>\n",
       "      <td>3</td>\n",
       "      <td>145</td>\n",
       "      <td>233</td>\n",
       "      <td>1</td>\n",
       "      <td>0</td>\n",
       "      <td>150</td>\n",
       "      <td>0</td>\n",
       "      <td>2.3</td>\n",
       "      <td>0</td>\n",
       "      <td>0</td>\n",
       "      <td>1</td>\n",
       "      <td>1</td>\n",
       "    </tr>\n",
       "    <tr>\n",
       "      <th>1</th>\n",
       "      <td>37</td>\n",
       "      <td>1</td>\n",
       "      <td>2</td>\n",
       "      <td>130</td>\n",
       "      <td>250</td>\n",
       "      <td>0</td>\n",
       "      <td>1</td>\n",
       "      <td>187</td>\n",
       "      <td>0</td>\n",
       "      <td>3.5</td>\n",
       "      <td>0</td>\n",
       "      <td>0</td>\n",
       "      <td>2</td>\n",
       "      <td>1</td>\n",
       "    </tr>\n",
       "    <tr>\n",
       "      <th>2</th>\n",
       "      <td>41</td>\n",
       "      <td>0</td>\n",
       "      <td>1</td>\n",
       "      <td>130</td>\n",
       "      <td>204</td>\n",
       "      <td>0</td>\n",
       "      <td>0</td>\n",
       "      <td>172</td>\n",
       "      <td>0</td>\n",
       "      <td>1.4</td>\n",
       "      <td>2</td>\n",
       "      <td>0</td>\n",
       "      <td>2</td>\n",
       "      <td>1</td>\n",
       "    </tr>\n",
       "    <tr>\n",
       "      <th>3</th>\n",
       "      <td>56</td>\n",
       "      <td>1</td>\n",
       "      <td>1</td>\n",
       "      <td>120</td>\n",
       "      <td>236</td>\n",
       "      <td>0</td>\n",
       "      <td>1</td>\n",
       "      <td>178</td>\n",
       "      <td>0</td>\n",
       "      <td>0.8</td>\n",
       "      <td>2</td>\n",
       "      <td>0</td>\n",
       "      <td>2</td>\n",
       "      <td>1</td>\n",
       "    </tr>\n",
       "    <tr>\n",
       "      <th>4</th>\n",
       "      <td>57</td>\n",
       "      <td>0</td>\n",
       "      <td>0</td>\n",
       "      <td>120</td>\n",
       "      <td>354</td>\n",
       "      <td>0</td>\n",
       "      <td>1</td>\n",
       "      <td>163</td>\n",
       "      <td>1</td>\n",
       "      <td>0.6</td>\n",
       "      <td>2</td>\n",
       "      <td>0</td>\n",
       "      <td>2</td>\n",
       "      <td>1</td>\n",
       "    </tr>\n",
       "    <tr>\n",
       "      <th>...</th>\n",
       "      <td>...</td>\n",
       "      <td>...</td>\n",
       "      <td>...</td>\n",
       "      <td>...</td>\n",
       "      <td>...</td>\n",
       "      <td>...</td>\n",
       "      <td>...</td>\n",
       "      <td>...</td>\n",
       "      <td>...</td>\n",
       "      <td>...</td>\n",
       "      <td>...</td>\n",
       "      <td>...</td>\n",
       "      <td>...</td>\n",
       "      <td>...</td>\n",
       "    </tr>\n",
       "    <tr>\n",
       "      <th>298</th>\n",
       "      <td>57</td>\n",
       "      <td>0</td>\n",
       "      <td>0</td>\n",
       "      <td>140</td>\n",
       "      <td>241</td>\n",
       "      <td>0</td>\n",
       "      <td>1</td>\n",
       "      <td>123</td>\n",
       "      <td>1</td>\n",
       "      <td>0.2</td>\n",
       "      <td>1</td>\n",
       "      <td>0</td>\n",
       "      <td>3</td>\n",
       "      <td>0</td>\n",
       "    </tr>\n",
       "    <tr>\n",
       "      <th>299</th>\n",
       "      <td>45</td>\n",
       "      <td>1</td>\n",
       "      <td>3</td>\n",
       "      <td>110</td>\n",
       "      <td>264</td>\n",
       "      <td>0</td>\n",
       "      <td>1</td>\n",
       "      <td>132</td>\n",
       "      <td>0</td>\n",
       "      <td>1.2</td>\n",
       "      <td>1</td>\n",
       "      <td>0</td>\n",
       "      <td>3</td>\n",
       "      <td>0</td>\n",
       "    </tr>\n",
       "    <tr>\n",
       "      <th>300</th>\n",
       "      <td>68</td>\n",
       "      <td>1</td>\n",
       "      <td>0</td>\n",
       "      <td>144</td>\n",
       "      <td>193</td>\n",
       "      <td>1</td>\n",
       "      <td>1</td>\n",
       "      <td>141</td>\n",
       "      <td>0</td>\n",
       "      <td>3.4</td>\n",
       "      <td>1</td>\n",
       "      <td>2</td>\n",
       "      <td>3</td>\n",
       "      <td>0</td>\n",
       "    </tr>\n",
       "    <tr>\n",
       "      <th>301</th>\n",
       "      <td>57</td>\n",
       "      <td>1</td>\n",
       "      <td>0</td>\n",
       "      <td>130</td>\n",
       "      <td>131</td>\n",
       "      <td>0</td>\n",
       "      <td>1</td>\n",
       "      <td>115</td>\n",
       "      <td>1</td>\n",
       "      <td>1.2</td>\n",
       "      <td>1</td>\n",
       "      <td>1</td>\n",
       "      <td>3</td>\n",
       "      <td>0</td>\n",
       "    </tr>\n",
       "    <tr>\n",
       "      <th>302</th>\n",
       "      <td>57</td>\n",
       "      <td>0</td>\n",
       "      <td>1</td>\n",
       "      <td>130</td>\n",
       "      <td>236</td>\n",
       "      <td>0</td>\n",
       "      <td>0</td>\n",
       "      <td>174</td>\n",
       "      <td>0</td>\n",
       "      <td>0.0</td>\n",
       "      <td>1</td>\n",
       "      <td>1</td>\n",
       "      <td>2</td>\n",
       "      <td>0</td>\n",
       "    </tr>\n",
       "  </tbody>\n",
       "</table>\n",
       "<p>303 rows × 14 columns</p>\n",
       "</div>"
      ],
      "text/plain": [
       "     age  sex  cp  trestbps  chol  fbs  restecg  thalach  exang  oldpeak  \\\n",
       "0     63    1   3       145   233    1        0      150      0      2.3   \n",
       "1     37    1   2       130   250    0        1      187      0      3.5   \n",
       "2     41    0   1       130   204    0        0      172      0      1.4   \n",
       "3     56    1   1       120   236    0        1      178      0      0.8   \n",
       "4     57    0   0       120   354    0        1      163      1      0.6   \n",
       "..   ...  ...  ..       ...   ...  ...      ...      ...    ...      ...   \n",
       "298   57    0   0       140   241    0        1      123      1      0.2   \n",
       "299   45    1   3       110   264    0        1      132      0      1.2   \n",
       "300   68    1   0       144   193    1        1      141      0      3.4   \n",
       "301   57    1   0       130   131    0        1      115      1      1.2   \n",
       "302   57    0   1       130   236    0        0      174      0      0.0   \n",
       "\n",
       "     slope  ca  thal  target  \n",
       "0        0   0     1       1  \n",
       "1        0   0     2       1  \n",
       "2        2   0     2       1  \n",
       "3        2   0     2       1  \n",
       "4        2   0     2       1  \n",
       "..     ...  ..   ...     ...  \n",
       "298      1   0     3       0  \n",
       "299      1   0     3       0  \n",
       "300      1   2     3       0  \n",
       "301      1   1     3       0  \n",
       "302      1   1     2       0  \n",
       "\n",
       "[303 rows x 14 columns]"
      ]
     },
     "execution_count": 15,
     "metadata": {},
     "output_type": "execute_result"
    }
   ],
   "source": [
    "data"
   ]
  },
  {
   "cell_type": "code",
   "execution_count": 16,
   "id": "c6b7909f",
   "metadata": {},
   "outputs": [
    {
     "name": "stderr",
     "output_type": "stream",
     "text": [
      "C:\\Users\\adity\\anaconda3\\lib\\site-packages\\seaborn\\_decorators.py:36: FutureWarning: Pass the following variables as keyword args: x, y. From version 0.12, the only valid positional argument will be `data`, and passing other arguments without an explicit keyword will result in an error or misinterpretation.\n",
      "  warnings.warn(\n"
     ]
    },
    {
     "data": {
      "text/plain": [
       "<AxesSubplot:xlabel='restecg', ylabel='target'>"
      ]
     },
     "execution_count": 16,
     "metadata": {},
     "output_type": "execute_result"
    },
    {
     "data": {
      "image/png": "[encoded data removed]",
      "text/plain": [
       "<Figure size 432x288 with 1 Axes>"
      ]
     },
     "metadata": {
      "needs_background": "light"
     },
     "output_type": "display_data"
    }
   ],
   "source": [
    "sns.barplot(data['restecg'],target)"
   ]
  },
  {
   "cell_type": "code",
   "execution_count": 17,
   "id": "2ba3862b",
   "metadata": {},
   "outputs": [
    {
     "name": "stderr",
     "output_type": "stream",
     "text": [
      "C:\\Users\\adity\\anaconda3\\lib\\site-packages\\seaborn\\_decorators.py:36: FutureWarning: Pass the following variables as keyword args: x, y. From version 0.12, the only valid positional argument will be `data`, and passing other arguments without an explicit keyword will result in an error or misinterpretation.\n",
      "  warnings.warn(\n"
     ]
    },
    {
     "data": {
      "text/plain": [
       "<AxesSubplot:xlabel='thal', ylabel='target'>"
      ]
     },
     "execution_count": 17,
     "metadata": {},
     "output_type": "execute_result"
    },
    {
     "data": {
      "image/png": "[encoded data removed]",
      "text/plain": [
       "<Figure size 432x288 with 1 Axes>"
      ]
     },
     "metadata": {
      "needs_background": "light"
     },
     "output_type": "display_data"
    }
   ],
   "source": [
    "sns.barplot(data['thal'],target)"
   ]
  },
  {
   "cell_type": "code",
   "execution_count": 18,
   "id": "59066268",
   "metadata": {},
   "outputs": [
    {
     "name": "stderr",
     "output_type": "stream",
     "text": [
      "C:\\Users\\adity\\anaconda3\\lib\\site-packages\\seaborn\\_decorators.py:36: FutureWarning: Pass the following variables as keyword args: x, y. From version 0.12, the only valid positional argument will be `data`, and passing other arguments without an explicit keyword will result in an error or misinterpretation.\n",
      "  warnings.warn(\n"
     ]
    },
    {
     "data": {
      "text/plain": [
       "<AxesSubplot:xlabel='slope', ylabel='target'>"
      ]
     },
     "execution_count": 18,
     "metadata": {},
     "output_type": "execute_result"
    },
    {
     "data": {
      "image/png": "[encoded data removed]",
      "text/plain": [
       "<Figure size 432x288 with 1 Axes>"
      ]
     },
     "metadata": {
      "needs_background": "light"
     },
     "output_type": "display_data"
    }
   ],
   "source": [
    "sns.barplot(data['slope'],target)"
   ]
  },
  {
   "cell_type": "markdown",
   "id": "b6fe5758",
   "metadata": {},
   "source": [
    "### Splitting the Data"
   ]
  },
  {
   "cell_type": "code",
   "execution_count": 19,
   "id": "bc2da9e5",
   "metadata": {},
   "outputs": [],
   "source": [
    "from sklearn.model_selection import train_test_split"
   ]
  },
  {
   "cell_type": "code",
   "execution_count": 20,
   "id": "2c20cace",
   "metadata": {},
   "outputs": [],
   "source": [
    "Symptoms=data.drop(\"target\",axis=1)\n",
    "Predictions=data[\"target\"]"
   ]
  },
  {
   "cell_type": "code",
   "execution_count": 63,
   "id": "7d9dda01",
   "metadata": {},
   "outputs": [],
   "source": [
    "Xtrain,Xtest,Ytrain,Ytest = train_test_split(Symptoms,Predictions,test_size=0.2,random_state=0)"
   ]
  },
  {
   "cell_type": "code",
   "execution_count": 64,
   "id": "cbc14ce6",
   "metadata": {},
   "outputs": [
    {
     "data": {
      "text/plain": [
       "(242, 13)"
      ]
     },
     "execution_count": 64,
     "metadata": {},
     "output_type": "execute_result"
    }
   ],
   "source": [
    "Xtrain.shape"
   ]
  },
  {
   "cell_type": "code",
   "execution_count": 65,
   "id": "c496ce8e",
   "metadata": {},
   "outputs": [
    {
     "data": {
      "text/plain": [
       "(242,)"
      ]
     },
     "execution_count": 65,
     "metadata": {},
     "output_type": "execute_result"
    }
   ],
   "source": [
    "Ytrain.shape"
   ]
  },
  {
   "cell_type": "code",
   "execution_count": 66,
   "id": "fda687ca",
   "metadata": {},
   "outputs": [
    {
     "data": {
      "text/plain": [
       "(61, 13)"
      ]
     },
     "execution_count": 66,
     "metadata": {},
     "output_type": "execute_result"
    }
   ],
   "source": [
    "Xtest.shape"
   ]
  },
  {
   "cell_type": "code",
   "execution_count": 67,
   "id": "572f50bb",
   "metadata": {},
   "outputs": [
    {
     "data": {
      "text/plain": [
       "(61,)"
      ]
     },
     "execution_count": 67,
     "metadata": {},
     "output_type": "execute_result"
    }
   ],
   "source": [
    "Ytest.shape"
   ]
  },
  {
   "cell_type": "markdown",
   "id": "871dff20",
   "metadata": {},
   "source": [
    "### Model Selection\n"
   ]
  },
  {
   "cell_type": "code",
   "execution_count": 68,
   "id": "5c1b6687",
   "metadata": {},
   "outputs": [],
   "source": [
    "from sklearn.metrics import accuracy_score,f1_score"
   ]
  },
  {
   "cell_type": "markdown",
   "id": "59efec87",
   "metadata": {},
   "source": [
    "### SVM"
   ]
  },
  {
   "cell_type": "code",
   "execution_count": 69,
   "id": "6acdbe65",
   "metadata": {},
   "outputs": [
    {
     "data": {
      "text/plain": [
       "SVC(kernel='linear')"
      ]
     },
     "execution_count": 69,
     "metadata": {},
     "output_type": "execute_result"
    }
   ],
   "source": [
    "from sklearn import svm\n",
    "sv=svm.SVC(kernel='linear')\n",
    "sv.fit(Xtrain,Ytrain)"
   ]
  },
  {
   "cell_type": "code",
   "execution_count": 70,
   "id": "d848d452",
   "metadata": {},
   "outputs": [
    {
     "name": "stdout",
     "output_type": "stream",
     "text": [
      "F1 Score\n",
      "0.8450704225352113\n",
      "Accuracy Score\n",
      "0.819672131147541\n"
     ]
    }
   ],
   "source": [
    "print(\"F1 Score\")\n",
    "print(f1_score(sv.predict(Xtest),Ytest))\n",
    "print(\"Accuracy Score\")\n",
    "print(accuracy_score(sv.predict(Xtest),Ytest))"
   ]
  },
  {
   "cell_type": "markdown",
   "id": "23104c63",
   "metadata": {},
   "source": [
    "### Decision Tree"
   ]
  },
  {
   "cell_type": "code",
   "execution_count": 71,
   "id": "e5cb2626",
   "metadata": {},
   "outputs": [],
   "source": [
    "from sklearn.tree import DecisionTreeClassifier"
   ]
  },
  {
   "cell_type": "code",
   "execution_count": 72,
   "id": "9237be11",
   "metadata": {},
   "outputs": [
    {
     "data": {
      "text/plain": [
       "DecisionTreeClassifier(random_state=0)"
      ]
     },
     "execution_count": 72,
     "metadata": {},
     "output_type": "execute_result"
    }
   ],
   "source": [
    "DS=DecisionTreeClassifier(random_state=0)\n",
    "DS.fit(Xtrain,Ytrain)"
   ]
  },
  {
   "cell_type": "code",
   "execution_count": 73,
   "id": "98e342a6",
   "metadata": {},
   "outputs": [
    {
     "name": "stdout",
     "output_type": "stream",
     "text": [
      "F1 Score\n",
      "0.7999999999999999\n",
      "Accuracy Score\n",
      "0.7868852459016393\n"
     ]
    }
   ],
   "source": [
    "print(\"F1 Score\")\n",
    "print(f1_score(DS.predict(Xtest),Ytest))\n",
    "print(\"Accuracy Score\")\n",
    "print(accuracy_score(DS.predict(Xtest),Ytest))"
   ]
  },
  {
   "cell_type": "markdown",
   "id": "154a9ef5",
   "metadata": {},
   "source": [
    "### Random Forest"
   ]
  },
  {
   "cell_type": "code",
   "execution_count": 74,
   "id": "8583e710",
   "metadata": {},
   "outputs": [
    {
     "data": {
      "text/plain": [
       "RandomForestClassifier(random_state=0)"
      ]
     },
     "execution_count": 74,
     "metadata": {},
     "output_type": "execute_result"
    }
   ],
   "source": [
    "from sklearn.ensemble import RandomForestClassifier\n",
    "RF=RandomForestClassifier(random_state=0)\n",
    "RF.fit(Xtrain,Ytrain)"
   ]
  },
  {
   "cell_type": "code",
   "execution_count": 75,
   "id": "67bf2d8c",
   "metadata": {},
   "outputs": [
    {
     "name": "stdout",
     "output_type": "stream",
     "text": [
      "F1 Score\n",
      "0.8955223880597014\n",
      "Accuracy Score\n",
      "0.8852459016393442\n"
     ]
    }
   ],
   "source": [
    "print(\"F1 Score\")\n",
    "print(f1_score(RF.predict(Xtest),Ytest))\n",
    "print(\"Accuracy Score\")\n",
    "print(accuracy_score(RF.predict(Xtest),Ytest))"
   ]
  },
  {
   "cell_type": "markdown",
   "id": "12f6f364",
   "metadata": {},
   "source": [
    "### KNN\n"
   ]
  },
  {
   "cell_type": "code",
   "execution_count": 76,
   "id": "3ab8238d",
   "metadata": {},
   "outputs": [
    {
     "data": {
      "text/plain": [
       "KNeighborsClassifier(n_neighbors=16)"
      ]
     },
     "execution_count": 76,
     "metadata": {},
     "output_type": "execute_result"
    }
   ],
   "source": [
    "from sklearn.neighbors import KNeighborsClassifier\n",
    "\n",
    "KNN=KNeighborsClassifier(n_neighbors=16)\n",
    "KNN.fit(Xtrain,Ytrain)"
   ]
  },
  {
   "cell_type": "code",
   "execution_count": 77,
   "id": "7ac07f11",
   "metadata": {},
   "outputs": [
    {
     "name": "stdout",
     "output_type": "stream",
     "text": [
      "F1 Score\n",
      "0.6666666666666667\n",
      "Accuracy Score\n",
      "0.6721311475409836\n"
     ]
    }
   ],
   "source": [
    "print(\"F1 Score\")\n",
    "print(f1_score(KNN.predict(Xtest),Ytest))\n",
    "print(\"Accuracy Score\")\n",
    "print(accuracy_score(KNN.predict(Xtest),Ytest))"
   ]
  },
  {
   "cell_type": "markdown",
   "id": "9e03f2d0",
   "metadata": {},
   "source": [
    "### Neural Network"
   ]
  },
  {
   "cell_type": "code",
   "execution_count": 78,
   "id": "39537637",
   "metadata": {},
   "outputs": [],
   "source": [
    "from keras.models import Sequential\n",
    "from keras.layers import Dense"
   ]
  },
  {
   "cell_type": "code",
   "execution_count": 79,
   "id": "87f38385",
   "metadata": {},
   "outputs": [],
   "source": [
    "model = Sequential()\n",
    "model.add(Dense(11,activation='relu',input_dim=13))\n",
    "model.add(Dense(1,activation='sigmoid'))\n",
    "\n",
    "model.compile(loss='binary_crossentropy',optimizer='adam',metrics=['accuracy'])\n"
   ]
  },
  {
   "cell_type": "code",
   "execution_count": 80,
   "id": "bc436185",
   "metadata": {
    "scrolled": true
   },
   "outputs": [
    {
     "name": "stdout",
     "output_type": "stream",
     "text": [
      "Epoch 1/300\n",
      "8/8 [==============================] - 1s 3ms/step - loss: 76.8393 - accuracy: 0.4587\n",
      "Epoch 2/300\n",
      "8/8 [==============================] - 0s 3ms/step - loss: 70.9368 - accuracy: 0.4587\n",
      "Epoch 3/300\n",
      "8/8 [==============================] - 0s 3ms/step - loss: 65.3905 - accuracy: 0.4587\n",
      "Epoch 4/300\n",
      "8/8 [==============================] - 0s 3ms/step - loss: 59.6867 - accuracy: 0.4587\n",
      "Epoch 5/300\n",
      "8/8 [==============================] - 0s 3ms/step - loss: 54.5040 - accuracy: 0.4587\n",
      "Epoch 6/300\n",
      "8/8 [==============================] - 0s 3ms/step - loss: 49.1430 - accuracy: 0.4587\n",
      "Epoch 7/300\n",
      "8/8 [==============================] - 0s 3ms/step - loss: 43.7792 - accuracy: 0.4587\n",
      "Epoch 8/300\n",
      "8/8 [==============================] - 0s 3ms/step - loss: 38.6569 - accuracy: 0.4587\n",
      "Epoch 9/300\n",
      "8/8 [==============================] - 0s 3ms/step - loss: 33.3087 - accuracy: 0.4587\n",
      "Epoch 10/300\n",
      "8/8 [==============================] - 0s 3ms/step - loss: 27.8150 - accuracy: 0.4587\n",
      "Epoch 11/300\n",
      "8/8 [==============================] - 0s 3ms/step - loss: 22.1459 - accuracy: 0.4587\n",
      "Epoch 12/300\n",
      "8/8 [==============================] - 0s 5ms/step - loss: 16.5524 - accuracy: 0.4587\n",
      "Epoch 13/300\n",
      "8/8 [==============================] - 0s 3ms/step - loss: 10.5120 - accuracy: 0.4587\n",
      "Epoch 14/300\n",
      "8/8 [==============================] - 0s 3ms/step - loss: 4.9268 - accuracy: 0.4711\n",
      "Epoch 15/300\n",
      "8/8 [==============================] - 0s 4ms/step - loss: 2.5424 - accuracy: 0.5124\n",
      "Epoch 16/300\n",
      "8/8 [==============================] - 0s 3ms/step - loss: 2.7228 - accuracy: 0.5620\n",
      "Epoch 17/300\n",
      "8/8 [==============================] - 0s 3ms/step - loss: 2.4774 - accuracy: 0.5785\n",
      "Epoch 18/300\n",
      "8/8 [==============================] - 0s 3ms/step - loss: 2.1559 - accuracy: 0.5579\n",
      "Epoch 19/300\n",
      "8/8 [==============================] - 0s 3ms/step - loss: 2.0490 - accuracy: 0.5579\n",
      "Epoch 20/300\n",
      "8/8 [==============================] - 0s 3ms/step - loss: 1.9586 - accuracy: 0.5620\n",
      "Epoch 21/300\n",
      "8/8 [==============================] - 0s 3ms/step - loss: 1.8479 - accuracy: 0.5909\n",
      "Epoch 22/300\n",
      "8/8 [==============================] - 0s 3ms/step - loss: 1.7719 - accuracy: 0.6033\n",
      "Epoch 23/300\n",
      "8/8 [==============================] - 0s 3ms/step - loss: 1.6798 - accuracy: 0.5950\n",
      "Epoch 24/300\n",
      "8/8 [==============================] - 0s 3ms/step - loss: 1.6140 - accuracy: 0.6033\n",
      "Epoch 25/300\n",
      "8/8 [==============================] - 0s 3ms/step - loss: 1.5576 - accuracy: 0.5992\n",
      "Epoch 26/300\n",
      "8/8 [==============================] - 0s 3ms/step - loss: 1.4955 - accuracy: 0.6116\n",
      "Epoch 27/300\n",
      "8/8 [==============================] - 0s 3ms/step - loss: 1.4470 - accuracy: 0.6116\n",
      "Epoch 28/300\n",
      "8/8 [==============================] - 0s 3ms/step - loss: 1.4082 - accuracy: 0.6074\n",
      "Epoch 29/300\n",
      "8/8 [==============================] - 0s 3ms/step - loss: 1.3647 - accuracy: 0.6157\n",
      "Epoch 30/300\n",
      "8/8 [==============================] - 0s 3ms/step - loss: 1.3266 - accuracy: 0.6198\n",
      "Epoch 31/300\n",
      "8/8 [==============================] - 0s 3ms/step - loss: 1.2841 - accuracy: 0.6198\n",
      "Epoch 32/300\n",
      "8/8 [==============================] - 0s 4ms/step - loss: 1.2350 - accuracy: 0.6198\n",
      "Epoch 33/300\n",
      "8/8 [==============================] - 0s 3ms/step - loss: 1.1804 - accuracy: 0.6198\n",
      "Epoch 34/300\n",
      "8/8 [==============================] - 0s 3ms/step - loss: 1.1185 - accuracy: 0.6157\n",
      "Epoch 35/300\n",
      "8/8 [==============================] - 0s 3ms/step - loss: 1.0683 - accuracy: 0.6157\n",
      "Epoch 36/300\n",
      "8/8 [==============================] - 0s 3ms/step - loss: 1.0293 - accuracy: 0.6074\n",
      "Epoch 37/300\n",
      "8/8 [==============================] - 0s 3ms/step - loss: 1.0051 - accuracy: 0.6364\n",
      "Epoch 38/300\n",
      "8/8 [==============================] - 0s 3ms/step - loss: 0.9855 - accuracy: 0.6240\n",
      "Epoch 39/300\n",
      "8/8 [==============================] - 0s 3ms/step - loss: 0.9544 - accuracy: 0.6281\n",
      "Epoch 40/300\n",
      "8/8 [==============================] - 0s 3ms/step - loss: 0.9385 - accuracy: 0.6322\n",
      "Epoch 41/300\n",
      "8/8 [==============================] - 0s 3ms/step - loss: 0.9319 - accuracy: 0.6322\n",
      "Epoch 42/300\n",
      "8/8 [==============================] - 0s 3ms/step - loss: 0.9153 - accuracy: 0.6364\n",
      "Epoch 43/300\n",
      "8/8 [==============================] - 0s 3ms/step - loss: 0.8911 - accuracy: 0.6364\n",
      "Epoch 44/300\n",
      "8/8 [==============================] - 0s 3ms/step - loss: 0.8962 - accuracy: 0.6446\n",
      "Epoch 45/300\n",
      "8/8 [==============================] - 0s 3ms/step - loss: 0.8732 - accuracy: 0.6446\n",
      "Epoch 46/300\n",
      "8/8 [==============================] - 0s 3ms/step - loss: 0.8545 - accuracy: 0.6488\n",
      "Epoch 47/300\n",
      "8/8 [==============================] - 0s 3ms/step - loss: 0.8358 - accuracy: 0.6570\n",
      "Epoch 48/300\n",
      "8/8 [==============================] - 0s 3ms/step - loss: 0.8283 - accuracy: 0.6694\n",
      "Epoch 49/300\n",
      "8/8 [==============================] - 0s 3ms/step - loss: 0.8145 - accuracy: 0.6570\n",
      "Epoch 50/300\n",
      "8/8 [==============================] - 0s 9ms/step - loss: 0.8240 - accuracy: 0.6446\n",
      "Epoch 51/300\n",
      "8/8 [==============================] - 0s 3ms/step - loss: 0.8076 - accuracy: 0.6694\n",
      "Epoch 52/300\n",
      "8/8 [==============================] - 0s 3ms/step - loss: 0.7927 - accuracy: 0.6570\n",
      "Epoch 53/300\n",
      "8/8 [==============================] - 0s 3ms/step - loss: 0.7739 - accuracy: 0.6653\n",
      "Epoch 54/300\n",
      "8/8 [==============================] - 0s 3ms/step - loss: 0.7727 - accuracy: 0.6818\n",
      "Epoch 55/300\n",
      "8/8 [==============================] - 0s 3ms/step - loss: 0.7575 - accuracy: 0.6612\n",
      "Epoch 56/300\n",
      "8/8 [==============================] - 0s 3ms/step - loss: 0.7568 - accuracy: 0.6777\n",
      "Epoch 57/300\n",
      "8/8 [==============================] - 0s 3ms/step - loss: 0.7458 - accuracy: 0.6777\n",
      "Epoch 58/300\n",
      "8/8 [==============================] - 0s 3ms/step - loss: 0.7316 - accuracy: 0.6818\n",
      "Epoch 59/300\n",
      "8/8 [==============================] - 0s 3ms/step - loss: 0.7294 - accuracy: 0.6694\n",
      "Epoch 60/300\n",
      "8/8 [==============================] - 0s 3ms/step - loss: 0.7308 - accuracy: 0.6694\n",
      "Epoch 61/300\n",
      "8/8 [==============================] - 0s 3ms/step - loss: 0.7163 - accuracy: 0.6694\n",
      "Epoch 62/300\n",
      "8/8 [==============================] - 0s 3ms/step - loss: 0.7049 - accuracy: 0.6901\n",
      "Epoch 63/300\n",
      "8/8 [==============================] - 0s 3ms/step - loss: 0.6984 - accuracy: 0.7025\n",
      "Epoch 64/300\n",
      "8/8 [==============================] - 0s 3ms/step - loss: 0.6925 - accuracy: 0.6901\n",
      "Epoch 65/300\n",
      "8/8 [==============================] - 0s 3ms/step - loss: 0.6866 - accuracy: 0.6983\n",
      "Epoch 66/300\n",
      "8/8 [==============================] - 0s 3ms/step - loss: 0.6714 - accuracy: 0.7066\n",
      "Epoch 67/300\n",
      "8/8 [==============================] - 0s 3ms/step - loss: 0.6746 - accuracy: 0.7066\n",
      "Epoch 68/300\n",
      "8/8 [==============================] - 0s 3ms/step - loss: 0.6598 - accuracy: 0.6983\n",
      "Epoch 69/300\n",
      "8/8 [==============================] - 0s 3ms/step - loss: 0.6560 - accuracy: 0.7025\n",
      "Epoch 70/300\n",
      "8/8 [==============================] - 0s 3ms/step - loss: 0.6529 - accuracy: 0.7107\n",
      "Epoch 71/300\n",
      "8/8 [==============================] - 0s 2ms/step - loss: 0.6445 - accuracy: 0.7107\n",
      "Epoch 72/300\n",
      "8/8 [==============================] - 0s 3ms/step - loss: 0.6467 - accuracy: 0.6983\n",
      "Epoch 73/300\n",
      "8/8 [==============================] - 0s 2ms/step - loss: 0.6331 - accuracy: 0.7149\n",
      "Epoch 74/300\n",
      "8/8 [==============================] - 0s 3ms/step - loss: 0.6314 - accuracy: 0.7190\n",
      "Epoch 75/300\n",
      "8/8 [==============================] - 0s 3ms/step - loss: 0.6227 - accuracy: 0.7273\n",
      "Epoch 76/300\n",
      "8/8 [==============================] - 0s 3ms/step - loss: 0.6175 - accuracy: 0.7149\n",
      "Epoch 77/300\n",
      "8/8 [==============================] - 0s 3ms/step - loss: 0.6190 - accuracy: 0.7273\n",
      "Epoch 78/300\n",
      "8/8 [==============================] - 0s 3ms/step - loss: 0.6367 - accuracy: 0.6983\n",
      "Epoch 79/300\n",
      "8/8 [==============================] - 0s 3ms/step - loss: 0.6089 - accuracy: 0.7397\n",
      "Epoch 80/300\n",
      "8/8 [==============================] - 0s 3ms/step - loss: 0.6029 - accuracy: 0.7273\n",
      "Epoch 81/300\n",
      "8/8 [==============================] - 0s 3ms/step - loss: 0.5979 - accuracy: 0.7190\n",
      "Epoch 82/300\n",
      "8/8 [==============================] - 0s 3ms/step - loss: 0.5927 - accuracy: 0.7438\n",
      "Epoch 83/300\n",
      "8/8 [==============================] - 0s 3ms/step - loss: 0.5898 - accuracy: 0.7231\n",
      "Epoch 84/300\n"
     ]
    },
    {
     "name": "stdout",
     "output_type": "stream",
     "text": [
      "8/8 [==============================] - 0s 3ms/step - loss: 0.5926 - accuracy: 0.7273\n",
      "Epoch 85/300\n",
      "8/8 [==============================] - 0s 3ms/step - loss: 0.6015 - accuracy: 0.6942\n",
      "Epoch 86/300\n",
      "8/8 [==============================] - 0s 4ms/step - loss: 0.5790 - accuracy: 0.7314\n",
      "Epoch 87/300\n",
      "8/8 [==============================] - 0s 3ms/step - loss: 0.5834 - accuracy: 0.7314\n",
      "Epoch 88/300\n",
      "8/8 [==============================] - 0s 3ms/step - loss: 0.5739 - accuracy: 0.7397\n",
      "Epoch 89/300\n",
      "8/8 [==============================] - 0s 3ms/step - loss: 0.5592 - accuracy: 0.7521\n",
      "Epoch 90/300\n",
      "8/8 [==============================] - 0s 3ms/step - loss: 0.5672 - accuracy: 0.7231\n",
      "Epoch 91/300\n",
      "8/8 [==============================] - 0s 3ms/step - loss: 0.5569 - accuracy: 0.7479\n",
      "Epoch 92/300\n",
      "8/8 [==============================] - 0s 3ms/step - loss: 0.5916 - accuracy: 0.7107\n",
      "Epoch 93/300\n",
      "8/8 [==============================] - 0s 3ms/step - loss: 0.5891 - accuracy: 0.7479\n",
      "Epoch 94/300\n",
      "8/8 [==============================] - 0s 3ms/step - loss: 0.5659 - accuracy: 0.7149\n",
      "Epoch 95/300\n",
      "8/8 [==============================] - 0s 2ms/step - loss: 0.5626 - accuracy: 0.7562\n",
      "Epoch 96/300\n",
      "8/8 [==============================] - 0s 3ms/step - loss: 0.5382 - accuracy: 0.7314\n",
      "Epoch 97/300\n",
      "8/8 [==============================] - 0s 3ms/step - loss: 0.5433 - accuracy: 0.7231\n",
      "Epoch 98/300\n",
      "8/8 [==============================] - 0s 3ms/step - loss: 0.5382 - accuracy: 0.7521\n",
      "Epoch 99/300\n",
      "8/8 [==============================] - 0s 2ms/step - loss: 0.5284 - accuracy: 0.7521\n",
      "Epoch 100/300\n",
      "8/8 [==============================] - 0s 4ms/step - loss: 0.5258 - accuracy: 0.7479\n",
      "Epoch 101/300\n",
      "8/8 [==============================] - 0s 3ms/step - loss: 0.5256 - accuracy: 0.7521\n",
      "Epoch 102/300\n",
      "8/8 [==============================] - 0s 4ms/step - loss: 0.5210 - accuracy: 0.7521\n",
      "Epoch 103/300\n",
      "8/8 [==============================] - 0s 4ms/step - loss: 0.5328 - accuracy: 0.7603\n",
      "Epoch 104/300\n",
      "8/8 [==============================] - 0s 5ms/step - loss: 0.5187 - accuracy: 0.7562\n",
      "Epoch 105/300\n",
      "8/8 [==============================] - 0s 3ms/step - loss: 0.5137 - accuracy: 0.7603\n",
      "Epoch 106/300\n",
      "8/8 [==============================] - 0s 3ms/step - loss: 0.5064 - accuracy: 0.7645\n",
      "Epoch 107/300\n",
      "8/8 [==============================] - 0s 3ms/step - loss: 0.5071 - accuracy: 0.7438\n",
      "Epoch 108/300\n",
      "8/8 [==============================] - 0s 3ms/step - loss: 0.5041 - accuracy: 0.7479\n",
      "Epoch 109/300\n",
      "8/8 [==============================] - 0s 3ms/step - loss: 0.4941 - accuracy: 0.7645\n",
      "Epoch 110/300\n",
      "8/8 [==============================] - 0s 3ms/step - loss: 0.4992 - accuracy: 0.7562\n",
      "Epoch 111/300\n",
      "8/8 [==============================] - 0s 3ms/step - loss: 0.4980 - accuracy: 0.7397\n",
      "Epoch 112/300\n",
      "8/8 [==============================] - 0s 3ms/step - loss: 0.4923 - accuracy: 0.7645\n",
      "Epoch 113/300\n",
      "8/8 [==============================] - 0s 3ms/step - loss: 0.4878 - accuracy: 0.7521\n",
      "Epoch 114/300\n",
      "8/8 [==============================] - 0s 4ms/step - loss: 0.5031 - accuracy: 0.7479\n",
      "Epoch 115/300\n",
      "8/8 [==============================] - 0s 4ms/step - loss: 0.5049 - accuracy: 0.7603\n",
      "Epoch 116/300\n",
      "8/8 [==============================] - 0s 3ms/step - loss: 0.4835 - accuracy: 0.7562\n",
      "Epoch 117/300\n",
      "8/8 [==============================] - 0s 3ms/step - loss: 0.4818 - accuracy: 0.7727\n",
      "Epoch 118/300\n",
      "8/8 [==============================] - 0s 3ms/step - loss: 0.4788 - accuracy: 0.7686\n",
      "Epoch 119/300\n",
      "8/8 [==============================] - 0s 3ms/step - loss: 0.4741 - accuracy: 0.7686\n",
      "Epoch 120/300\n",
      "8/8 [==============================] - 0s 4ms/step - loss: 0.4895 - accuracy: 0.7727\n",
      "Epoch 121/300\n",
      "8/8 [==============================] - 0s 3ms/step - loss: 0.5032 - accuracy: 0.7479\n",
      "Epoch 122/300\n",
      "8/8 [==============================] - 0s 3ms/step - loss: 0.4637 - accuracy: 0.7934\n",
      "Epoch 123/300\n",
      "8/8 [==============================] - 0s 3ms/step - loss: 0.4666 - accuracy: 0.7727\n",
      "Epoch 124/300\n",
      "8/8 [==============================] - 0s 3ms/step - loss: 0.4689 - accuracy: 0.7521\n",
      "Epoch 125/300\n",
      "8/8 [==============================] - 0s 3ms/step - loss: 0.4597 - accuracy: 0.7769\n",
      "Epoch 126/300\n",
      "8/8 [==============================] - 0s 3ms/step - loss: 0.4810 - accuracy: 0.7686\n",
      "Epoch 127/300\n",
      "8/8 [==============================] - 0s 3ms/step - loss: 0.4609 - accuracy: 0.7769\n",
      "Epoch 128/300\n",
      "8/8 [==============================] - 0s 3ms/step - loss: 0.4565 - accuracy: 0.7810\n",
      "Epoch 129/300\n",
      "8/8 [==============================] - 0s 3ms/step - loss: 0.4538 - accuracy: 0.7769\n",
      "Epoch 130/300\n",
      "8/8 [==============================] - 0s 3ms/step - loss: 0.4524 - accuracy: 0.7769\n",
      "Epoch 131/300\n",
      "8/8 [==============================] - 0s 3ms/step - loss: 0.4521 - accuracy: 0.7769\n",
      "Epoch 132/300\n",
      "8/8 [==============================] - 0s 3ms/step - loss: 0.4596 - accuracy: 0.7769\n",
      "Epoch 133/300\n",
      "8/8 [==============================] - 0s 3ms/step - loss: 0.4478 - accuracy: 0.7851\n",
      "Epoch 134/300\n",
      "8/8 [==============================] - 0s 3ms/step - loss: 0.4469 - accuracy: 0.7851\n",
      "Epoch 135/300\n",
      "8/8 [==============================] - 0s 3ms/step - loss: 0.4420 - accuracy: 0.7893\n",
      "Epoch 136/300\n",
      "8/8 [==============================] - 0s 3ms/step - loss: 0.4422 - accuracy: 0.7810\n",
      "Epoch 137/300\n",
      "8/8 [==============================] - 0s 3ms/step - loss: 0.4406 - accuracy: 0.7934\n",
      "Epoch 138/300\n",
      "8/8 [==============================] - 0s 3ms/step - loss: 0.4367 - accuracy: 0.7893\n",
      "Epoch 139/300\n",
      "8/8 [==============================] - 0s 3ms/step - loss: 0.4380 - accuracy: 0.7975\n",
      "Epoch 140/300\n",
      "8/8 [==============================] - 0s 3ms/step - loss: 0.4348 - accuracy: 0.7893\n",
      "Epoch 141/300\n",
      "8/8 [==============================] - 0s 3ms/step - loss: 0.4448 - accuracy: 0.7851\n",
      "Epoch 142/300\n",
      "8/8 [==============================] - 0s 3ms/step - loss: 0.4419 - accuracy: 0.7810\n",
      "Epoch 143/300\n",
      "8/8 [==============================] - 0s 7ms/step - loss: 0.4364 - accuracy: 0.8058\n",
      "Epoch 144/300\n",
      "8/8 [==============================] - 0s 3ms/step - loss: 0.4357 - accuracy: 0.7975\n",
      "Epoch 145/300\n",
      "8/8 [==============================] - 0s 3ms/step - loss: 0.4335 - accuracy: 0.7934\n",
      "Epoch 146/300\n",
      "8/8 [==============================] - 0s 3ms/step - loss: 0.4256 - accuracy: 0.7934\n",
      "Epoch 147/300\n",
      "8/8 [==============================] - 0s 3ms/step - loss: 0.4406 - accuracy: 0.8017\n",
      "Epoch 148/300\n",
      "8/8 [==============================] - 0s 3ms/step - loss: 0.4430 - accuracy: 0.7934\n",
      "Epoch 149/300\n",
      "8/8 [==============================] - 0s 3ms/step - loss: 0.4417 - accuracy: 0.7975\n",
      "Epoch 150/300\n",
      "8/8 [==============================] - 0s 3ms/step - loss: 0.4246 - accuracy: 0.8017\n",
      "Epoch 151/300\n",
      "8/8 [==============================] - 0s 3ms/step - loss: 0.4250 - accuracy: 0.7810\n",
      "Epoch 152/300\n",
      "8/8 [==============================] - 0s 3ms/step - loss: 0.4193 - accuracy: 0.8017\n",
      "Epoch 153/300\n",
      "8/8 [==============================] - 0s 3ms/step - loss: 0.4192 - accuracy: 0.8140\n",
      "Epoch 154/300\n",
      "8/8 [==============================] - 0s 3ms/step - loss: 0.4177 - accuracy: 0.7975\n",
      "Epoch 155/300\n",
      "8/8 [==============================] - 0s 4ms/step - loss: 0.4193 - accuracy: 0.8099\n",
      "Epoch 156/300\n",
      "8/8 [==============================] - 0s 3ms/step - loss: 0.4267 - accuracy: 0.7934\n",
      "Epoch 157/300\n",
      "8/8 [==============================] - 0s 3ms/step - loss: 0.4254 - accuracy: 0.8140\n",
      "Epoch 158/300\n",
      "8/8 [==============================] - 0s 3ms/step - loss: 0.4221 - accuracy: 0.7975\n",
      "Epoch 159/300\n",
      "8/8 [==============================] - 0s 3ms/step - loss: 0.4164 - accuracy: 0.8099\n",
      "Epoch 160/300\n",
      "8/8 [==============================] - 0s 4ms/step - loss: 0.4103 - accuracy: 0.8182\n",
      "Epoch 161/300\n",
      "8/8 [==============================] - 0s 3ms/step - loss: 0.4120 - accuracy: 0.8223\n",
      "Epoch 162/300\n",
      "8/8 [==============================] - 0s 3ms/step - loss: 0.4176 - accuracy: 0.7893\n",
      "Epoch 163/300\n",
      "8/8 [==============================] - 0s 3ms/step - loss: 0.4275 - accuracy: 0.8099\n",
      "Epoch 164/300\n",
      "8/8 [==============================] - 0s 3ms/step - loss: 0.4238 - accuracy: 0.7893\n",
      "Epoch 165/300\n",
      "8/8 [==============================] - 0s 3ms/step - loss: 0.4317 - accuracy: 0.7975\n",
      "Epoch 166/300\n",
      "8/8 [==============================] - 0s 3ms/step - loss: 0.4132 - accuracy: 0.7975\n",
      "Epoch 167/300\n"
     ]
    },
    {
     "name": "stdout",
     "output_type": "stream",
     "text": [
      "8/8 [==============================] - 0s 3ms/step - loss: 0.4290 - accuracy: 0.8099\n",
      "Epoch 168/300\n",
      "8/8 [==============================] - 0s 3ms/step - loss: 0.4224 - accuracy: 0.8017\n",
      "Epoch 169/300\n",
      "8/8 [==============================] - 0s 2ms/step - loss: 0.4123 - accuracy: 0.8223\n",
      "Epoch 170/300\n",
      "8/8 [==============================] - 0s 3ms/step - loss: 0.4065 - accuracy: 0.8099\n",
      "Epoch 171/300\n",
      "8/8 [==============================] - 0s 2ms/step - loss: 0.4053 - accuracy: 0.8140\n",
      "Epoch 172/300\n",
      "8/8 [==============================] - 0s 3ms/step - loss: 0.4122 - accuracy: 0.8223\n",
      "Epoch 173/300\n",
      "8/8 [==============================] - 0s 2ms/step - loss: 0.4002 - accuracy: 0.8347\n",
      "Epoch 174/300\n",
      "8/8 [==============================] - 0s 3ms/step - loss: 0.4185 - accuracy: 0.7975\n",
      "Epoch 175/300\n",
      "8/8 [==============================] - 0s 3ms/step - loss: 0.4017 - accuracy: 0.8306\n",
      "Epoch 176/300\n",
      "8/8 [==============================] - 0s 3ms/step - loss: 0.4027 - accuracy: 0.8264\n",
      "Epoch 177/300\n",
      "8/8 [==============================] - 0s 3ms/step - loss: 0.4007 - accuracy: 0.8430\n",
      "Epoch 178/300\n",
      "8/8 [==============================] - 0s 3ms/step - loss: 0.4058 - accuracy: 0.8099\n",
      "Epoch 179/300\n",
      "8/8 [==============================] - 0s 3ms/step - loss: 0.4056 - accuracy: 0.8347\n",
      "Epoch 180/300\n",
      "8/8 [==============================] - 0s 3ms/step - loss: 0.4048 - accuracy: 0.8017\n",
      "Epoch 181/300\n",
      "8/8 [==============================] - 0s 4ms/step - loss: 0.4149 - accuracy: 0.8017\n",
      "Epoch 182/300\n",
      "8/8 [==============================] - 0s 3ms/step - loss: 0.4153 - accuracy: 0.7810\n",
      "Epoch 183/300\n",
      "8/8 [==============================] - 0s 3ms/step - loss: 0.4123 - accuracy: 0.8140\n",
      "Epoch 184/300\n",
      "8/8 [==============================] - 0s 4ms/step - loss: 0.4140 - accuracy: 0.8058\n",
      "Epoch 185/300\n",
      "8/8 [==============================] - 0s 3ms/step - loss: 0.3932 - accuracy: 0.8347\n",
      "Epoch 186/300\n",
      "8/8 [==============================] - 0s 3ms/step - loss: 0.4026 - accuracy: 0.8099\n",
      "Epoch 187/300\n",
      "8/8 [==============================] - 0s 3ms/step - loss: 0.4195 - accuracy: 0.7934\n",
      "Epoch 188/300\n",
      "8/8 [==============================] - 0s 3ms/step - loss: 0.4024 - accuracy: 0.8306\n",
      "Epoch 189/300\n",
      "8/8 [==============================] - 0s 3ms/step - loss: 0.3985 - accuracy: 0.8182\n",
      "Epoch 190/300\n",
      "8/8 [==============================] - 0s 4ms/step - loss: 0.3930 - accuracy: 0.8347\n",
      "Epoch 191/300\n",
      "8/8 [==============================] - 0s 4ms/step - loss: 0.3986 - accuracy: 0.8099\n",
      "Epoch 192/300\n",
      "8/8 [==============================] - 0s 3ms/step - loss: 0.3980 - accuracy: 0.8388\n",
      "Epoch 193/300\n",
      "8/8 [==============================] - 0s 3ms/step - loss: 0.3958 - accuracy: 0.8388\n",
      "Epoch 194/300\n",
      "8/8 [==============================] - 0s 4ms/step - loss: 0.3933 - accuracy: 0.8430\n",
      "Epoch 195/300\n",
      "8/8 [==============================] - 0s 4ms/step - loss: 0.3888 - accuracy: 0.8430\n",
      "Epoch 196/300\n",
      "8/8 [==============================] - 0s 3ms/step - loss: 0.3933 - accuracy: 0.8388\n",
      "Epoch 197/300\n",
      "8/8 [==============================] - 0s 3ms/step - loss: 0.3927 - accuracy: 0.8306\n",
      "Epoch 198/300\n",
      "8/8 [==============================] - 0s 3ms/step - loss: 0.4048 - accuracy: 0.8182\n",
      "Epoch 199/300\n",
      "8/8 [==============================] - 0s 3ms/step - loss: 0.3870 - accuracy: 0.8430\n",
      "Epoch 200/300\n",
      "8/8 [==============================] - 0s 3ms/step - loss: 0.3926 - accuracy: 0.8223\n",
      "Epoch 201/300\n",
      "8/8 [==============================] - 0s 3ms/step - loss: 0.3848 - accuracy: 0.8430\n",
      "Epoch 202/300\n",
      "8/8 [==============================] - 0s 3ms/step - loss: 0.3943 - accuracy: 0.8264\n",
      "Epoch 203/300\n",
      "8/8 [==============================] - 0s 3ms/step - loss: 0.3935 - accuracy: 0.8306\n",
      "Epoch 204/300\n",
      "8/8 [==============================] - 0s 3ms/step - loss: 0.3870 - accuracy: 0.8388\n",
      "Epoch 205/300\n",
      "8/8 [==============================] - 0s 3ms/step - loss: 0.4105 - accuracy: 0.8264\n",
      "Epoch 206/300\n",
      "8/8 [==============================] - 0s 4ms/step - loss: 0.4136 - accuracy: 0.8182\n",
      "Epoch 207/300\n",
      "8/8 [==============================] - 0s 4ms/step - loss: 0.4002 - accuracy: 0.8182\n",
      "Epoch 208/300\n",
      "8/8 [==============================] - 0s 3ms/step - loss: 0.4102 - accuracy: 0.7975\n",
      "Epoch 209/300\n",
      "8/8 [==============================] - 0s 3ms/step - loss: 0.3922 - accuracy: 0.8388\n",
      "Epoch 210/300\n",
      "8/8 [==============================] - 0s 3ms/step - loss: 0.3920 - accuracy: 0.8264\n",
      "Epoch 211/300\n",
      "8/8 [==============================] - 0s 3ms/step - loss: 0.3836 - accuracy: 0.8388\n",
      "Epoch 212/300\n",
      "8/8 [==============================] - 0s 3ms/step - loss: 0.3921 - accuracy: 0.8264\n",
      "Epoch 213/300\n",
      "8/8 [==============================] - 0s 3ms/step - loss: 0.3893 - accuracy: 0.8471\n",
      "Epoch 214/300\n",
      "8/8 [==============================] - 0s 3ms/step - loss: 0.3862 - accuracy: 0.8430\n",
      "Epoch 215/300\n",
      "8/8 [==============================] - 0s 3ms/step - loss: 0.3884 - accuracy: 0.8430\n",
      "Epoch 216/300\n",
      "8/8 [==============================] - 0s 3ms/step - loss: 0.3888 - accuracy: 0.8388\n",
      "Epoch 217/300\n",
      "8/8 [==============================] - 0s 2ms/step - loss: 0.3867 - accuracy: 0.8264\n",
      "Epoch 218/300\n",
      "8/8 [==============================] - 0s 3ms/step - loss: 0.3930 - accuracy: 0.8306\n",
      "Epoch 219/300\n",
      "8/8 [==============================] - 0s 4ms/step - loss: 0.3963 - accuracy: 0.8099\n",
      "Epoch 220/300\n",
      "8/8 [==============================] - 0s 3ms/step - loss: 0.3995 - accuracy: 0.8058\n",
      "Epoch 221/300\n",
      "8/8 [==============================] - 0s 4ms/step - loss: 0.4121 - accuracy: 0.8017\n",
      "Epoch 222/300\n",
      "8/8 [==============================] - 0s 3ms/step - loss: 0.4197 - accuracy: 0.8017\n",
      "Epoch 223/300\n",
      "8/8 [==============================] - 0s 5ms/step - loss: 0.4063 - accuracy: 0.8099\n",
      "Epoch 224/300\n",
      "8/8 [==============================] - 0s 3ms/step - loss: 0.4088 - accuracy: 0.7975\n",
      "Epoch 225/300\n",
      "8/8 [==============================] - 0s 3ms/step - loss: 0.3844 - accuracy: 0.8347\n",
      "Epoch 226/300\n",
      "8/8 [==============================] - 0s 3ms/step - loss: 0.3857 - accuracy: 0.8264\n",
      "Epoch 227/300\n",
      "8/8 [==============================] - 0s 3ms/step - loss: 0.3803 - accuracy: 0.8554\n",
      "Epoch 228/300\n",
      "8/8 [==============================] - 0s 3ms/step - loss: 0.3836 - accuracy: 0.8430\n",
      "Epoch 229/300\n",
      "8/8 [==============================] - 0s 2ms/step - loss: 0.3957 - accuracy: 0.8347\n",
      "Epoch 230/300\n",
      "8/8 [==============================] - 0s 3ms/step - loss: 0.3826 - accuracy: 0.8306\n",
      "Epoch 231/300\n",
      "8/8 [==============================] - 0s 2ms/step - loss: 0.3768 - accuracy: 0.8554\n",
      "Epoch 232/300\n",
      "8/8 [==============================] - 0s 3ms/step - loss: 0.3753 - accuracy: 0.8471\n",
      "Epoch 233/300\n",
      "8/8 [==============================] - 0s 3ms/step - loss: 0.3797 - accuracy: 0.8347\n",
      "Epoch 234/300\n",
      "8/8 [==============================] - 0s 3ms/step - loss: 0.3798 - accuracy: 0.8512\n",
      "Epoch 235/300\n",
      "8/8 [==============================] - 0s 4ms/step - loss: 0.3915 - accuracy: 0.8347\n",
      "Epoch 236/300\n",
      "8/8 [==============================] - 0s 3ms/step - loss: 0.3806 - accuracy: 0.8471\n",
      "Epoch 237/300\n",
      "8/8 [==============================] - 0s 3ms/step - loss: 0.3784 - accuracy: 0.8512\n",
      "Epoch 238/300\n",
      "8/8 [==============================] - 0s 3ms/step - loss: 0.3761 - accuracy: 0.8554\n",
      "Epoch 239/300\n",
      "8/8 [==============================] - 0s 3ms/step - loss: 0.3836 - accuracy: 0.8264\n",
      "Epoch 240/300\n",
      "8/8 [==============================] - 0s 3ms/step - loss: 0.3793 - accuracy: 0.8430\n",
      "Epoch 241/300\n",
      "8/8 [==============================] - 0s 4ms/step - loss: 0.3914 - accuracy: 0.8140\n",
      "Epoch 242/300\n",
      "8/8 [==============================] - 0s 3ms/step - loss: 0.3832 - accuracy: 0.8512\n",
      "Epoch 243/300\n",
      "8/8 [==============================] - 0s 3ms/step - loss: 0.3780 - accuracy: 0.8347\n",
      "Epoch 244/300\n",
      "8/8 [==============================] - 0s 3ms/step - loss: 0.3776 - accuracy: 0.8347\n",
      "Epoch 245/300\n",
      "8/8 [==============================] - 0s 3ms/step - loss: 0.3804 - accuracy: 0.8636\n",
      "Epoch 246/300\n",
      "8/8 [==============================] - 0s 3ms/step - loss: 0.3755 - accuracy: 0.8430\n",
      "Epoch 247/300\n",
      "8/8 [==============================] - 0s 3ms/step - loss: 0.3811 - accuracy: 0.8306\n",
      "Epoch 248/300\n",
      "8/8 [==============================] - 0s 3ms/step - loss: 0.3794 - accuracy: 0.8388\n",
      "Epoch 249/300\n"
     ]
    },
    {
     "name": "stdout",
     "output_type": "stream",
     "text": [
      "8/8 [==============================] - 0s 7ms/step - loss: 0.3748 - accuracy: 0.8554\n",
      "Epoch 250/300\n",
      "8/8 [==============================] - 0s 3ms/step - loss: 0.3766 - accuracy: 0.8347\n",
      "Epoch 251/300\n",
      "8/8 [==============================] - 0s 3ms/step - loss: 0.3868 - accuracy: 0.8306\n",
      "Epoch 252/300\n",
      "8/8 [==============================] - 0s 3ms/step - loss: 0.3870 - accuracy: 0.8306\n",
      "Epoch 253/300\n",
      "8/8 [==============================] - 0s 3ms/step - loss: 0.3821 - accuracy: 0.8306\n",
      "Epoch 254/300\n",
      "8/8 [==============================] - 0s 3ms/step - loss: 0.3721 - accuracy: 0.8430\n",
      "Epoch 255/300\n",
      "8/8 [==============================] - 0s 3ms/step - loss: 0.3738 - accuracy: 0.8471\n",
      "Epoch 256/300\n",
      "8/8 [==============================] - 0s 3ms/step - loss: 0.3727 - accuracy: 0.8388\n",
      "Epoch 257/300\n",
      "8/8 [==============================] - 0s 3ms/step - loss: 0.3872 - accuracy: 0.8306\n",
      "Epoch 258/300\n",
      "8/8 [==============================] - 0s 5ms/step - loss: 0.3888 - accuracy: 0.8182\n",
      "Epoch 259/300\n",
      "8/8 [==============================] - 0s 3ms/step - loss: 0.3858 - accuracy: 0.8306\n",
      "Epoch 260/300\n",
      "8/8 [==============================] - 0s 3ms/step - loss: 0.3732 - accuracy: 0.8471\n",
      "Epoch 261/300\n",
      "8/8 [==============================] - 0s 3ms/step - loss: 0.3763 - accuracy: 0.8430\n",
      "Epoch 262/300\n",
      "8/8 [==============================] - 0s 3ms/step - loss: 0.3789 - accuracy: 0.8347\n",
      "Epoch 263/300\n",
      "8/8 [==============================] - 0s 3ms/step - loss: 0.3796 - accuracy: 0.8347\n",
      "Epoch 264/300\n",
      "8/8 [==============================] - 0s 3ms/step - loss: 0.3717 - accuracy: 0.8347\n",
      "Epoch 265/300\n",
      "8/8 [==============================] - 0s 3ms/step - loss: 0.3735 - accuracy: 0.8471\n",
      "Epoch 266/300\n",
      "8/8 [==============================] - 0s 3ms/step - loss: 0.3722 - accuracy: 0.8347\n",
      "Epoch 267/300\n",
      "8/8 [==============================] - 0s 3ms/step - loss: 0.3840 - accuracy: 0.8264\n",
      "Epoch 268/300\n",
      "8/8 [==============================] - 0s 3ms/step - loss: 0.3804 - accuracy: 0.8471\n",
      "Epoch 269/300\n",
      "8/8 [==============================] - 0s 3ms/step - loss: 0.3707 - accuracy: 0.8554\n",
      "Epoch 270/300\n",
      "8/8 [==============================] - 0s 3ms/step - loss: 0.3713 - accuracy: 0.8388\n",
      "Epoch 271/300\n",
      "8/8 [==============================] - 0s 3ms/step - loss: 0.3719 - accuracy: 0.8471\n",
      "Epoch 272/300\n",
      "8/8 [==============================] - 0s 3ms/step - loss: 0.3698 - accuracy: 0.8512\n",
      "Epoch 273/300\n",
      "8/8 [==============================] - 0s 3ms/step - loss: 0.3707 - accuracy: 0.8471\n",
      "Epoch 274/300\n",
      "8/8 [==============================] - 0s 3ms/step - loss: 0.3733 - accuracy: 0.8347\n",
      "Epoch 275/300\n",
      "8/8 [==============================] - 0s 4ms/step - loss: 0.3684 - accuracy: 0.8554\n",
      "Epoch 276/300\n",
      "8/8 [==============================] - 0s 3ms/step - loss: 0.4085 - accuracy: 0.8182\n",
      "Epoch 277/300\n",
      "8/8 [==============================] - 0s 3ms/step - loss: 0.3678 - accuracy: 0.8430\n",
      "Epoch 278/300\n",
      "8/8 [==============================] - 0s 3ms/step - loss: 0.3673 - accuracy: 0.8306\n",
      "Epoch 279/300\n",
      "8/8 [==============================] - 0s 3ms/step - loss: 0.3810 - accuracy: 0.8554\n",
      "Epoch 280/300\n",
      "8/8 [==============================] - 0s 3ms/step - loss: 0.3747 - accuracy: 0.8223\n",
      "Epoch 281/300\n",
      "8/8 [==============================] - 0s 3ms/step - loss: 0.3879 - accuracy: 0.8306\n",
      "Epoch 282/300\n",
      "8/8 [==============================] - 0s 3ms/step - loss: 0.4333 - accuracy: 0.7975\n",
      "Epoch 283/300\n",
      "8/8 [==============================] - 0s 3ms/step - loss: 0.4313 - accuracy: 0.7851\n",
      "Epoch 284/300\n",
      "8/8 [==============================] - 0s 3ms/step - loss: 0.4427 - accuracy: 0.8099\n",
      "Epoch 285/300\n",
      "8/8 [==============================] - 0s 3ms/step - loss: 0.4142 - accuracy: 0.8058\n",
      "Epoch 286/300\n",
      "8/8 [==============================] - 0s 3ms/step - loss: 0.3674 - accuracy: 0.8388\n",
      "Epoch 287/300\n",
      "8/8 [==============================] - 0s 3ms/step - loss: 0.3841 - accuracy: 0.8430\n",
      "Epoch 288/300\n",
      "8/8 [==============================] - 0s 3ms/step - loss: 0.3678 - accuracy: 0.8471\n",
      "Epoch 289/300\n",
      "8/8 [==============================] - 0s 3ms/step - loss: 0.3801 - accuracy: 0.8388\n",
      "Epoch 290/300\n",
      "8/8 [==============================] - 0s 3ms/step - loss: 0.3711 - accuracy: 0.8430\n",
      "Epoch 291/300\n",
      "8/8 [==============================] - 0s 3ms/step - loss: 0.3769 - accuracy: 0.8430\n",
      "Epoch 292/300\n",
      "8/8 [==============================] - 0s 3ms/step - loss: 0.3702 - accuracy: 0.8430\n",
      "Epoch 293/300\n",
      "8/8 [==============================] - 0s 3ms/step - loss: 0.3747 - accuracy: 0.8430\n",
      "Epoch 294/300\n",
      "8/8 [==============================] - 0s 3ms/step - loss: 0.3699 - accuracy: 0.8512\n",
      "Epoch 295/300\n",
      "8/8 [==============================] - 0s 4ms/step - loss: 0.3656 - accuracy: 0.8430\n",
      "Epoch 296/300\n",
      "8/8 [==============================] - 0s 3ms/step - loss: 0.3865 - accuracy: 0.8306\n",
      "Epoch 297/300\n",
      "8/8 [==============================] - 0s 3ms/step - loss: 0.3689 - accuracy: 0.8430\n",
      "Epoch 298/300\n",
      "8/8 [==============================] - 0s 3ms/step - loss: 0.3719 - accuracy: 0.8347\n",
      "Epoch 299/300\n",
      "8/8 [==============================] - 0s 3ms/step - loss: 0.3703 - accuracy: 0.8430\n",
      "Epoch 300/300\n",
      "8/8 [==============================] - 0s 2ms/step - loss: 0.3735 - accuracy: 0.8347\n"
     ]
    },
    {
     "data": {
      "text/plain": [
       "<keras.src.callbacks.History at 0x1d4539af6a0>"
      ]
     },
     "execution_count": 80,
     "metadata": {},
     "output_type": "execute_result"
    }
   ],
   "source": [
    "model.fit(Xtrain,Ytrain,epochs=300)"
   ]
  },
  {
   "cell_type": "code",
   "execution_count": 81,
   "id": "505bb790",
   "metadata": {},
   "outputs": [
    {
     "name": "stdout",
     "output_type": "stream",
     "text": [
      "2/2 [==============================] - 0s 4ms/step\n"
     ]
    }
   ],
   "source": [
    "Ypredd=model.predict(Xtest)\n"
   ]
  },
  {
   "cell_type": "code",
   "execution_count": 82,
   "id": "9eaf10dc",
   "metadata": {},
   "outputs": [
    {
     "data": {
      "text/plain": [
       "[0,\n",
       " 1,\n",
       " 1,\n",
       " 0,\n",
       " 0,\n",
       " 1,\n",
       " 0,\n",
       " 0,\n",
       " 0,\n",
       " 0,\n",
       " 0,\n",
       " 1,\n",
       " 0,\n",
       " 1,\n",
       " 1,\n",
       " 1,\n",
       " 0,\n",
       " 1,\n",
       " 0,\n",
       " 1,\n",
       " 1,\n",
       " 0,\n",
       " 0,\n",
       " 0,\n",
       " 1,\n",
       " 1,\n",
       " 0,\n",
       " 1,\n",
       " 1,\n",
       " 1,\n",
       " 1,\n",
       " 0,\n",
       " 1,\n",
       " 1,\n",
       " 1,\n",
       " 0,\n",
       " 0,\n",
       " 1,\n",
       " 0,\n",
       " 0,\n",
       " 1,\n",
       " 1,\n",
       " 0,\n",
       " 0,\n",
       " 0,\n",
       " 1,\n",
       " 1,\n",
       " 1,\n",
       " 0,\n",
       " 1,\n",
       " 1,\n",
       " 1,\n",
       " 1,\n",
       " 1,\n",
       " 1,\n",
       " 0,\n",
       " 1,\n",
       " 1,\n",
       " 1,\n",
       " 1,\n",
       " 1]"
      ]
     },
     "execution_count": 82,
     "metadata": {},
     "output_type": "execute_result"
    }
   ],
   "source": [
    "rounded = [round(x[0]) for x in Ypredd]\n",
    "\n",
    "Ypredd = rounded\n",
    "Ypredd"
   ]
  },
  {
   "cell_type": "code",
   "execution_count": 83,
   "id": "58103353",
   "metadata": {},
   "outputs": [
    {
     "name": "stdout",
     "output_type": "stream",
     "text": [
      "F1 Score\n",
      "0.8285714285714286\n",
      "Accuracy Score\n",
      "0.8032786885245902\n"
     ]
    }
   ],
   "source": [
    "print(\"F1 Score\")\n",
    "print(f1_score(Ypredd,Ytest))\n",
    "print(\"Accuracy Score\")\n",
    "print(accuracy_score(Ypredd,Ytest))"
   ]
  },
  {
   "cell_type": "code",
   "execution_count": 94,
   "id": "028e9aac",
   "metadata": {},
   "outputs": [
    {
     "name": "stdout",
     "output_type": "stream",
     "text": [
      "[18.0327868852459, 32.78688524590164, 21.311475409836063, 11.475409836065573, 19.672131147540984]\n"
     ]
    }
   ],
   "source": [
    "from sklearn.metrics import mean_squared_error\n",
    "mse=[]\n",
    "mse.append(mean_squared_error(sv.predict(Xtest),Ytest)*100)\n",
    "mse.append(mean_squared_error(KNN.predict(Xtest),Ytest)*100)\n",
    "mse.append(mean_squared_error(DS.predict(Xtest),Ytest)*100)\n",
    "mse.append(mean_squared_error(RF.predict(Xtest),Ytest)*100)\n",
    "mse.append(mean_squared_error(Ypredd,Ytest)*100)\n",
    "print (mse)"
   ]
  },
  {
   "cell_type": "code",
   "execution_count": 111,
   "id": "2f30791f",
   "metadata": {},
   "outputs": [
    {
     "name": "stderr",
     "output_type": "stream",
     "text": [
      "C:\\Users\\adity\\anaconda3\\lib\\site-packages\\seaborn\\_decorators.py:36: FutureWarning: Pass the following variables as keyword args: x, y. From version 0.12, the only valid positional argument will be `data`, and passing other arguments without an explicit keyword will result in an error or misinterpretation.\n",
      "  warnings.warn(\n"
     ]
    },
    {
     "data": {
      "text/plain": [
       "<AxesSubplot:ylabel='Mean Squared Error'>"
      ]
     },
     "execution_count": 111,
     "metadata": {},
     "output_type": "execute_result"
    },
    {
     "data": {
      "image/png": "[encoded data removed]",
      "text/plain": [
       "<Figure size 1080x576 with 1 Axes>"
      ]
     },
     "metadata": {},
     "output_type": "display_data"
    }
   ],
   "source": [
    "algo=[\"SVM\",\"KNN\",\"Decision Tree\",\"Random Forest\",\"Neural Network\"]\n",
    "sns.set(rc={'figure.figsize':(15,8)})\n",
    "plt.pyplot.ylabel(\"Mean Squared Error\")\n",
    "sns.barplot(algo,mse)"
   ]
  },
  {
   "cell_type": "code",
   "execution_count": 101,
   "id": "1dacc7cf",
   "metadata": {},
   "outputs": [],
   "source": [
    "f1=[]\n",
    "f1.append(f1_score(sv.predict(Xtest),Ytest)*100)\n",
    "f1.append(f1_score(KNN.predict(Xtest),Ytest)*100)\n",
    "f1.append(f1_score(DS.predict(Xtest),Ytest)*100)\n",
    "f1.append(f1_score(RF.predict(Xtest),Ytest)*100)\n",
    "f1.append(f1_score(Ypredd,Ytest)*100)\n"
   ]
  },
  {
   "cell_type": "code",
   "execution_count": 110,
   "id": "d9331cfc",
   "metadata": {},
   "outputs": [
    {
     "name": "stderr",
     "output_type": "stream",
     "text": [
      "C:\\Users\\adity\\anaconda3\\lib\\site-packages\\seaborn\\_decorators.py:36: FutureWarning: Pass the following variables as keyword args: x, y. From version 0.12, the only valid positional argument will be `data`, and passing other arguments without an explicit keyword will result in an error or misinterpretation.\n",
      "  warnings.warn(\n"
     ]
    },
    {
     "data": {
      "text/plain": [
       "<AxesSubplot:ylabel='F1 Score'>"
      ]
     },
     "execution_count": 110,
     "metadata": {},
     "output_type": "execute_result"
    },
    {
     "data": {
      "image/png": "[encoded data removed]",
      "text/plain": [
       "<Figure size 1080x576 with 1 Axes>"
      ]
     },
     "metadata": {},
     "output_type": "display_data"
    }
   ],
   "source": [
    "plt.pyplot.ylabel(\"F1 Score\")\n",
    "sns.barplot(algo,f1)"
   ]
  },
  {
   "cell_type": "code",
   "execution_count": 112,
   "id": "061ad91b",
   "metadata": {},
   "outputs": [],
   "source": [
    "import pickle"
   ]
  },
  {
   "cell_type": "code",
   "execution_count": 114,
   "id": "e4bc112d",
   "metadata": {},
   "outputs": [],
   "source": [
    "pickle.dump(RF,open(\"RF.pkl\",\"wb\"))"
   ]
  },
  {
   "cell_type": "code",
   "execution_count": null,
   "id": "d10345b2",
   "metadata": {},
   "outputs": [],
   "source": []
  }
 ],
 "metadata": {
  "kernelspec": {
   "display_name": "Python 3 (ipykernel)",
   "language": "python",
   "name": "python3"
  },
  "language_info": {
   "codemirror_mode": {
    "name": "ipython",
    "version": 3
   },
   "file_extension": ".py",
   "mimetype": "text/x-python",
   "name": "python",
   "nbconvert_exporter": "python",
   "pygments_lexer": "ipython3",
   "version": "3.9.12"
  }
 },
 "nbformat": 4,
 "nbformat_minor": 5
}
